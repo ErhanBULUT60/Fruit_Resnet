{
  "cells": [
    {
      "cell_type": "markdown",
      "metadata": {
        "id": "view-in-github",
        "colab_type": "text"
      },
      "source": [
        "<a href=\"https://colab.research.google.com/github/ErhanBULUT60/Fruit_Resnet/blob/main/Fruit_ResNet.ipynb\" target=\"_parent\"><img src=\"https://colab.research.google.com/assets/colab-badge.svg\" alt=\"Open In Colab\"/></a>"
      ]
    },
    {
      "cell_type": "code",
      "execution_count": null,
      "metadata": {
        "id": "uBAFXAnCcr4y"
      },
      "outputs": [],
      "source": [
        "!pip install tensorflow\n",
        "!pip install keras-resnet\n",
        "from tensorflow.keras.layers import Input,Lambda,Dense,Flatten\n",
        "from tensorflow.keras.models import Model\n",
        "from tensorflow.keras.applications.resnet50 import ResNet50, preprocess_input\n",
        "from tensorflow.keras.preprocessing import image\n",
        "from tensorflow.keras.preprocessing.image import ImageDataGenerator\n",
        "\n",
        "from sklearn.metrics import confusion_matrix\n",
        "import numpy as np\n",
        "import matplotlib.pyplot as plt\n",
        "\n",
        "from glob import glob\n",
        "import itertools"
      ]
    },
    {
      "cell_type": "code",
      "execution_count": 22,
      "metadata": {
        "id": "Cga7BhK9kcOQ"
      },
      "outputs": [],
      "source": [
        "# re-size all the images\n",
        "IMAGE_SIZE= [100,100]\n",
        "\n",
        "# Config of traning\n",
        "epochs=16\n",
        "batch_size=128"
      ]
    },
    {
      "cell_type": "code",
      "execution_count": null,
      "metadata": {
        "colab": {
          "base_uri": "https://localhost:8080/"
        },
        "id": "X1ca3_7Ak9n4",
        "outputId": "5e38a31d-5311-42db-bcbf-ca5e53a76d84"
      },
      "outputs": [
        {
          "output_type": "stream",
          "name": "stdout",
          "text": [
            "--2023-10-02 17:51:00--  https://lazyprogrammer.me/course_files/fruits-360.zip\n",
            "Resolving lazyprogrammer.me (lazyprogrammer.me)... 104.21.23.210, 172.67.213.166, 2606:4700:3031::6815:17d2, ...\n",
            "Connecting to lazyprogrammer.me (lazyprogrammer.me)|104.21.23.210|:443... connected.\n",
            "HTTP request sent, awaiting response... 403 Forbidden\n",
            "2023-10-02 17:51:01 ERROR 403: Forbidden.\n",
            "\n"
          ]
        }
      ],
      "source": [
        "!wget -nc https://lazyprogrammer.me/course_files/fruits-360.zip"
      ]
    },
    {
      "cell_type": "code",
      "execution_count": null,
      "metadata": {
        "id": "rBe7VjA7lr0P"
      },
      "outputs": [],
      "source": [
        "train_path='fruits-360/Training'\n",
        "valid_path='fruits-360/Validation'\n"
      ]
    },
    {
      "cell_type": "code",
      "execution_count": null,
      "metadata": {
        "id": "k3OvHU0fvnea",
        "colab": {
          "base_uri": "https://localhost:8080/"
        },
        "outputId": "973ec4d2-05c4-413a-c891-d94872446151"
      },
      "outputs": [
        {
          "output_type": "stream",
          "name": "stdout",
          "text": [
            "unzip:  cannot find or open fruits-360.zip, fruits-360.zip.zip or fruits-360.zip.ZIP.\n"
          ]
        }
      ],
      "source": [
        "!unzip -nq fruits-360.zip"
      ]
    },
    {
      "cell_type": "code",
      "execution_count": null,
      "metadata": {
        "colab": {
          "base_uri": "https://localhost:8080/"
        },
        "id": "4jNoLdbHmUqK",
        "outputId": "87de1ff9-e771-4849-f78e-efcca79d3e8f"
      },
      "outputs": [
        {
          "output_type": "stream",
          "name": "stdout",
          "text": [
            "0\n"
          ]
        }
      ],
      "source": [
        "image_files = glob(train_path + '/*/*.jp*g')\n",
        "valid_image_files = glob(valid_path + '/*/*.jp*g')\n",
        "print(len(image_files))"
      ]
    },
    {
      "cell_type": "code",
      "execution_count": null,
      "metadata": {
        "id": "-aCm5s-gm932"
      },
      "outputs": [],
      "source": [
        "folders = glob(train_path + '/*')"
      ]
    },
    {
      "cell_type": "code",
      "execution_count": null,
      "metadata": {
        "id": "PAR_1iSirvLi"
      },
      "outputs": [],
      "source": [
        "plt.imshow(image.load_img(np.random.choice(image_files)))"
      ]
    },
    {
      "cell_type": "code",
      "execution_count": null,
      "metadata": {
        "colab": {
          "base_uri": "https://localhost:8080/"
        },
        "id": "sVVzDaEPsPJI",
        "outputId": "1607d364-f6d2-4db4-fc70-488a951d6684"
      },
      "outputs": [
        {
          "name": "stdout",
          "output_type": "stream",
          "text": [
            "Downloading data from https://storage.googleapis.com/tensorflow/keras-applications/resnet/resnet50_weights_tf_dim_ordering_tf_kernels_notop.h5\n",
            "94765736/94765736 [==============================] - 1s 0us/step\n"
          ]
        }
      ],
      "source": [
        "res = ResNet50(input_shape=IMAGE_SIZE + [3], weights='imagenet', include_top=False)"
      ]
    },
    {
      "cell_type": "code",
      "execution_count": null,
      "metadata": {
        "id": "r0D9APelss_P"
      },
      "outputs": [],
      "source": [
        "# don't train existing weights\n",
        "for layer in res.layers:\n",
        "  layer.trainable=False"
      ]
    },
    {
      "cell_type": "code",
      "execution_count": null,
      "metadata": {
        "id": "QWpCM-6NKz0X"
      },
      "outputs": [],
      "source": [
        "x= Flatten()(res.output)\n",
        "# x= Dense(1000, activation='relu')(x) #example\n",
        "prediction= Dense (len(folders), activation='softmax')(x)"
      ]
    },
    {
      "cell_type": "code",
      "execution_count": null,
      "metadata": {
        "id": "ls0l4dYGLhbK"
      },
      "outputs": [],
      "source": [
        "model= Model(inputs=res.input, outputs=prediction)"
      ]
    },
    {
      "cell_type": "code",
      "execution_count": null,
      "metadata": {
        "id": "NvpPHTTpLvVr"
      },
      "outputs": [],
      "source": [
        "model.summary()"
      ]
    },
    {
      "cell_type": "code",
      "execution_count": null,
      "metadata": {
        "id": "I5Twa48rMTFS"
      },
      "outputs": [],
      "source": [
        "model.compile(loss='sparse_categorical_crossentropy', optimizer='adam', metrics=['accuracy'])"
      ]
    },
    {
      "cell_type": "code",
      "execution_count": null,
      "metadata": {
        "id": "Z-SUrmLJZwNt"
      },
      "outputs": [],
      "source": [
        "#ImageDataGenerator instance\n",
        "train_gen=ImageDataGenerator(rotation_range=20, width_shift_range=0.1, height_shift_range=0.1, shear_range=0.1, zoom_range=0.2, horizontal_flip=True, vertical_flip=True, preprocessing_function=preprocess_input)\n",
        "val_gen= ImageDataGenerator(preprocessing_function=preprocess_input\n",
        "                            )"
      ]
    },
    {
      "cell_type": "code",
      "execution_count": null,
      "metadata": {
        "colab": {
          "base_uri": "https://localhost:8080/"
        },
        "id": "yo5xktT-bJ1B",
        "outputId": "8e4965c1-eca1-4401-a450-dbcf82c7efe3"
      },
      "outputs": [
        {
          "name": "stdout",
          "output_type": "stream",
          "text": [
            "Found 9673 images belonging to 60 classes.\n",
            "{'Apple Braeburn': 0, 'Apple Golden 1': 1, 'Apple Golden 2': 2, 'Apple Golden 3': 3, 'Apple Granny Smith': 4, 'Apple Red 1': 5, 'Apple Red 2': 6, 'Apple Red 3': 7, 'Apple Red Delicious': 8, 'Apple Red Yellow': 9, 'Apricot': 10, 'Avocado': 11, 'Avocado ripe': 12, 'Banana': 13, 'Banana Red': 14, 'Cactus fruit': 15, 'Carambula': 16, 'Cherry': 17, 'Clementine': 18, 'Cocos': 19, 'Dates': 20, 'Granadilla': 21, 'Grape Pink': 22, 'Grape White': 23, 'Grape White 2': 24, 'Grapefruit Pink': 25, 'Grapefruit White': 26, 'Guava': 27, 'Huckleberry': 28, 'Kaki': 29, 'Kiwi': 30, 'Kumquats': 31, 'Lemon': 32, 'Lemon Meyer': 33, 'Limes': 34, 'Litchi': 35, 'Mandarine': 36, 'Mango': 37, 'Maracuja': 38, 'Nectarine': 39, 'Orange': 40, 'Papaya': 41, 'Passion Fruit': 42, 'Peach': 43, 'Peach Flat': 44, 'Pear': 45, 'Pear Abate': 46, 'Pear Monster': 47, 'Pear Williams': 48, 'Pepino': 49, 'Pineapple': 50, 'Pitahaya Red': 51, 'Plum': 52, 'Pomegranate': 53, 'Quince': 54, 'Raspberry': 55, 'Salak': 56, 'Strawberry': 57, 'Tamarillo': 58, 'Tangelo': 59}\n"
          ]
        }
      ],
      "source": [
        "# test generator to see how it works and some other useful things\n",
        "test_gen= val_gen.flow_from_directory(valid_path, target_size=IMAGE_SIZE)\n",
        "print(test_gen.class_indices)\n",
        "labels = [None]*len(test_gen.class_indices)\n",
        "for k, v in test_gen.class_indices.items():\n",
        "  labels[v] = k"
      ]
    },
    {
      "cell_type": "code",
      "execution_count": null,
      "metadata": {
        "colab": {
          "base_uri": "https://localhost:8080/",
          "height": 506
        },
        "id": "NdVTpsFxdED7",
        "outputId": "89ceb812-91c1-4b83-e25d-a7c22f03ffb1"
      },
      "outputs": [
        {
          "name": "stderr",
          "output_type": "stream",
          "text": [
            "WARNING:matplotlib.image:Clipping input data to the valid range for imshow with RGB data ([0..1] for floats or [0..255] for integers).\n"
          ]
        },
        {
          "name": "stdout",
          "output_type": "stream",
          "text": [
            "min: -88.68 max: 151.061\n"
          ]
        },
        {
          "data": {
            "image/png": "[encoded data removed]",
            "text/plain": [
              "<Figure size 640x480 with 1 Axes>"
            ]
          },
          "metadata": {},
          "output_type": "display_data"
        }
      ],
      "source": [
        "#Plot the strangely colored image\n",
        "for x,y in test_gen:\n",
        "  print(\"min:\", x[0].min(), \"max:\", x[0].max())\n",
        "  plt.title(labels[np.argmax(y[0])])\n",
        "  plt.imshow(x[0])\n",
        "  plt.show\n",
        "  break\n"
      ]
    },
    {
      "cell_type": "code",
      "execution_count": null,
      "metadata": {
        "colab": {
          "base_uri": "https://localhost:8080/"
        },
        "id": "-9cNHCNvgple",
        "outputId": "e1691b4d-9e7f-4200-c01d-5e6562658ecf"
      },
      "outputs": [
        {
          "name": "stdout",
          "output_type": "stream",
          "text": [
            "Found 28736 images belonging to 60 classes.\n",
            "Found 9673 images belonging to 60 classes.\n"
          ]
        }
      ],
      "source": [
        "from numpy.random.mtrand import shuffle\n",
        "# create generators\n",
        "train_generators = train_gen.flow_from_directory(train_path,\n",
        "                                                 target_size=IMAGE_SIZE,\n",
        "                                                 shuffle=True,\n",
        "                                                 batch_size=batch_size,\n",
        "                                                 class_mode='sparse')\n",
        "valid_genarator= val_gen.flow_from_directory(valid_path,\n",
        "                                             target_size=IMAGE_SIZE,\n",
        "                                             shuffle=False,\n",
        "                                             batch_size=batch_size,\n",
        "                                             class_mode='sparse')"
      ]
    },
    {
      "cell_type": "code",
      "execution_count": null,
      "metadata": {
        "id": "IPu-WBXhiQkG"
      },
      "outputs": [],
      "source": [
        "# fit\n",
        "r = model.fit(\n",
        "    train_generators,\n",
        "    validation_data = valid_genarator,\n",
        "    epochs = epochs,\n",
        "    steps_per_epoch=len(image_files)//batch_size,\n",
        "              validation_steps=len(valid_image_files)//batch_size,)"
      ]
    }
  ],
  "metadata": {
    "colab": {
      "provenance": [],
      "authorship_tag": "ABX9TyMfMYA/mDgnuoOYqyWHT5fJ",
      "include_colab_link": true
    },
    "kernelspec": {
      "display_name": "Python 3",
      "name": "python3"
    },
    "language_info": {
      "name": "python"
    }
  },
  "nbformat": 4,
  "nbformat_minor": 0
}